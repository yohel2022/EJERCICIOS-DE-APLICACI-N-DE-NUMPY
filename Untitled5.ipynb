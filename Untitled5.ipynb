{
  "nbformat": 4,
  "nbformat_minor": 0,
  "metadata": {
    "colab": {
      "provenance": [],
      "authorship_tag": "ABX9TyOydkYDplbc1vzfLmYVcYbl",
      "include_colab_link": true
    },
    "kernelspec": {
      "name": "python3",
      "display_name": "Python 3"
    },
    "language_info": {
      "name": "python"
    }
  },
  "cells": [
    {
      "cell_type": "markdown",
      "metadata": {
        "id": "view-in-github",
        "colab_type": "text"
      },
      "source": [
        "<a href=\"https://colab.research.google.com/github/yohel2022/EJERCICIOS-DE-APLICACI-N-DE-NUMPY/blob/main/Untitled5.ipynb\" target=\"_parent\"><img src=\"https://colab.research.google.com/assets/colab-badge.svg\" alt=\"Open In Colab\"/></a>"
      ]
    },
    {
      "cell_type": "markdown",
      "source": [],
      "metadata": {
        "id": "U8dioYqqhjdi"
      }
    },
    {
      "cell_type": "code",
      "execution_count": 43,
      "metadata": {
        "id": "Xb5DfphxRvGq"
      },
      "outputs": [],
      "source": [
        "# IMPORTAR NumPy\n",
        "import numpy as np"
      ]
    },
    {
      "cell_type": "code",
      "source": [
        "# Crear una matriz bidimensional (matriz) de tamaño 3x3 con valores enteros consecutivos.\n",
        "matriz = np.arange(1, 10).reshape(3, 3)"
      ],
      "metadata": {
        "id": "bTe9w5QcUDGv"
      },
      "execution_count": 38,
      "outputs": []
    },
    {
      "cell_type": "code",
      "source": [
        "# Paso 1: CREACIÓN DE ARRARS\n",
        "# Crear un array unidimensional (vector) con 5 elementos enteros de tu elección.\n",
        "vector = np.array([1, 2, 3, 4, 5,6,7,8,9])"
      ],
      "metadata": {
        "id": "5jlrljUzT1kf"
      },
      "execution_count": 42,
      "outputs": []
    },
    {
      "cell_type": "code",
      "source": [
        "# Utilizar la función np.zeros() para crear una matriz de tamaño 2x4 llena de ceros.\n",
        "matriz_zeros = np.zeros((2, 4))"
      ],
      "metadata": {
        "id": "hW-W0crxUF81"
      },
      "execution_count": 4,
      "outputs": []
    },
    {
      "cell_type": "code",
      "source": [
        "# Utilizar la función np.ones() para crear una matriz de tamaño 3x2 llena de unos.\n",
        "matriz_unos = np.ones((3, 2))"
      ],
      "metadata": {
        "id": "AlGd3ztyUKY9"
      },
      "execution_count": 5,
      "outputs": []
    },
    {
      "cell_type": "code",
      "source": [
        "# Utilizar la función np.random.randint() para crear una matriz de tamaño 4x4 con números enteros aleatorios entre 0 y 10.\n",
        "matriz_random = np.random.randint(0, 10, size=(4, 4))"
      ],
      "metadata": {
        "id": "nkk9Gb8yUSa-"
      },
      "execution_count": 6,
      "outputs": []
    },
    {
      "cell_type": "code",
      "source": [
        "# Paso 2: ACCESO A ELEMENTO\n",
        "# Acceder al tercer elemento del vector creado en el paso 1.\n",
        "tercer_elemento_vector = vector[2]"
      ],
      "metadata": {
        "id": "LZZX4hJrUa_9"
      },
      "execution_count": 7,
      "outputs": []
    },
    {
      "cell_type": "code",
      "source": [
        "# Acceder al elemento en la segunda fila y segunda columna de la matriz creada en el paso 1.\n",
        "elemento_2_2_matriz = matriz[1, 1]"
      ],
      "metadata": {
        "id": "k6WhCIUjU0oc"
      },
      "execution_count": 8,
      "outputs": []
    },
    {
      "cell_type": "code",
      "source": [
        "# Paso 3: PROPIEDADES DE LOS ARRARYS\n",
        "# Utilizar el atributo ndim para verificar la cantidad de dimensiones de la matriz creada en el paso 2.\n",
        "dimensiones_matriz = matriz.ndim"
      ],
      "metadata": {
        "id": "CDlXQvqzVav_"
      },
      "execution_count": 9,
      "outputs": []
    },
    {
      "cell_type": "code",
      "source": [
        "# Utilizar el atributo shape para obtener la forma de la matriz creada en el paso 2.\n",
        "forma_matriz = matriz.shape"
      ],
      "metadata": {
        "id": "-gcXDZonVlmr"
      },
      "execution_count": 11,
      "outputs": []
    },
    {
      "cell_type": "code",
      "source": [
        "# Utilizar el atributo size para obtener el tamaño total de la matriz creada en el paso 2.\n",
        "tamaño_matriz = matriz.size"
      ],
      "metadata": {
        "id": "R8koVA0RVxM9"
      },
      "execution_count": 12,
      "outputs": []
    },
    {
      "cell_type": "code",
      "source": [
        "# Paso 4: OPERACIONES BÁSICAS\n",
        "# Sumar dos matrices de tamaño 2x2 con valores aleatorios entre 0 y 10.\n",
        "matriz_aleatoria_1 = np.random.randint(0, 10, size=(2, 2))\n",
        "matriz_aleatoria_2 = np.random.randint(0, 10, size=(2, 2))\n",
        "suma_matrices = matriz_aleatoria_1 + matriz_aleatoria_2"
      ],
      "metadata": {
        "id": "bp4xFXPhV0dV"
      },
      "execution_count": 13,
      "outputs": []
    },
    {
      "cell_type": "code",
      "source": [
        "# Multiplicar dos matrices de tamaño 3x2 y 2x3 respectivamente.\n",
        "matriz_3x2 = np.random.randint(0, 10, size=(3, 2))\n",
        "matriz_2x3 = np.random.randint(0, 10, size=(2, 3))\n",
        "multiplicacion_matrices = np.dot(matriz_3x2, matriz_2x3)"
      ],
      "metadata": {
        "id": "3KkPe8qPWEIy"
      },
      "execution_count": 16,
      "outputs": []
    },
    {
      "cell_type": "code",
      "source": [
        "# Dividimos una matriz de tamaño 2x2 por otra matriz de tamaño 2x2, utilizando tanto la división por elementos como la multiplicación por la inversa.\n",
        "matriz_dividida = np.random.randint(1, 10, size=(2, 2))\n",
        "matriz_inversa = np.linalg.inv(matriz_dividida)\n",
        "resultado_division = matriz_dividida / matriz_dividida\n",
        "resultado_multiplicacion = np.dot(matriz_dividida, matriz_inversa)"
      ],
      "metadata": {
        "id": "qDYGFJpOWIzU"
      },
      "execution_count": 18,
      "outputs": []
    },
    {
      "cell_type": "code",
      "source": [
        "# Paso 5: MANIPULACIÓN DE ARRAYS\n",
        "# Utilizar la función reshape() para convertir el vector creado en el paso 2 en una matriz de tamaño 1x9.\n",
        "vector_reshaped = vector.reshape(1, 9)\n"
      ],
      "metadata": {
        "id": "7Ilu-A8QWNpw"
      },
      "execution_count": 35,
      "outputs": []
    },
    {
      "cell_type": "code",
      "source": [
        "# Utilizar la función flatten() para convertir la matriz creada en el paso 2 en un vector unidimensional.\n",
        "matriz_flattened = matriz.flatten()"
      ],
      "metadata": {
        "id": "XE6ThaPEWTvO"
      },
      "execution_count": 20,
      "outputs": []
    },
    {
      "cell_type": "code",
      "source": [
        "# Paso 6: OPERACIONES ESTADÍSTICAS\n",
        "# Calcular la suma de todos los elementos de la matriz creada en el paso 2.\n",
        "suma_elementos_matriz = matriz.sum()"
      ],
      "metadata": {
        "id": "uFvzmWb4WYmg"
      },
      "execution_count": 21,
      "outputs": []
    },
    {
      "cell_type": "code",
      "source": [
        "# Calcular la media de cada fila de la matriz creada en el paso 2.\n",
        "media_filas_matriz = matriz.mean(axis=1)"
      ],
      "metadata": {
        "id": "Clsz2y63Wk0Y"
      },
      "execution_count": 23,
      "outputs": []
    },
    {
      "cell_type": "code",
      "source": [
        "# Paso 7: INTERACCIÓN Y REBANADO\n",
        "# Imprimir la primera fila de la matriz creada en el paso 2.\n",
        "primera_fila = matriz[0]"
      ],
      "metadata": {
        "id": "vIeWtxJsWop0"
      },
      "execution_count": 24,
      "outputs": []
    },
    {
      "cell_type": "code",
      "source": [
        "# Imprimir las primeras dos columnas de la matriz creada en el paso 2.\n",
        "primeras_dos_columnas = matriz[:, :2]"
      ],
      "metadata": {
        "id": "lH7fS2LOWv7E"
      },
      "execution_count": 26,
      "outputs": []
    },
    {
      "cell_type": "code",
      "source": [
        "# Paso 8: EJERCICIO ADICIONAL\n",
        "# Definir una matriz de tamaño 4x4 con valores aleatorios.\n",
        "matriz_adicional = np.random.randint(0, 100, size=(4, 4))"
      ],
      "metadata": {
        "id": "ske2C7nSW13j"
      },
      "execution_count": 27,
      "outputs": []
    },
    {
      "cell_type": "code",
      "source": [
        "# Encontrar el valor máximo y mínimo de la matriz, así como su posición.\n",
        "valor_maximo = matriz_adicional.max()\n",
        "posicion_maximo = np.unravel_index(matriz_adicional.argmax(), matriz_adicional.shape)\n",
        "valor_minimo = matriz_adicional.min()\n",
        "posicion_minimo = np.unravel_index(matriz_adicional.argmin(), matriz_adicional.shape)"
      ],
      "metadata": {
        "id": "ir6bQnceW2tW"
      },
      "execution_count": 28,
      "outputs": []
    },
    {
      "cell_type": "code",
      "source": [
        "# IMPRIMIR RESULTADOS\n",
        "print(\"Vector:\", vector)\n",
        "print(\"Matriz:\\n\", matriz)\n",
        "print(\"Matriz de ceros:\\n\", matriz_zeros)\n",
        "print(\"Matriz de unos:\\n\", matriz_unos)\n",
        "print(\"Matriz aleatoria:\\n\", matriz_random)\n",
        "print(\"Tercer elemento del vector:\", tercer_elemento_vector)\n",
        "print(\"Elemento en la segunda fila y segunda columna de la matriz:\", elemento_2_2_matriz)\n",
        "print(\"Dimensiones de la matriz:\", dimensiones_matriz)\n",
        "print(\"Forma de la matriz:\", forma_matriz)\n",
        "print(\"Tamaño total de la matriz:\", tamaño_matriz)\n",
        "print(\"Suma de matrices aleatorias:\", suma_matrices)\n",
        "print(\"Multiplicación de matrices:\", multiplicacion_matrices)\n",
        "print(\"División de matrices:\", resultado_division)\n",
        "print(\"Multiplicación por la inversa:\", resultado_multiplicacion)\n",
        "print(\"Vector reshaped:\", vector_reshaped)\n",
        "print(\"Matriz flattened:\", matriz_flattened)\n",
        "print(\"Suma de elementos de la matriz:\", suma_elementos_matriz)\n",
        "print(\"Media de cada fila de la matriz:\", media_filas_matriz)\n",
        "print(\"Primera fila de la matriz:\", primera_fila)\n",
        "print(\"Primeras dos columnas de la matriz:\\n\", primeras_dos_columnas)\n",
        "print(\"Matriz adicional:\\n\", matriz_adicional)\n",
        "print(\"Valor máximo:\", valor_maximo, \"en posición:\", posicion_maximo)\n",
        "print(\"Valor mínimo:\", valor_minimo, \"en posición:\", posicion_minimo)"
      ],
      "metadata": {
        "colab": {
          "base_uri": "https://localhost:8080/"
        },
        "id": "dkD3gjcdW91k",
        "outputId": "d66408d5-a2f5-415e-d32d-ba176bfc9137"
      },
      "execution_count": 36,
      "outputs": [
        {
          "output_type": "stream",
          "name": "stdout",
          "text": [
            "Vector: [1 2 3 4 5 6 7 8 9]\n",
            "Matriz:\n",
            " [[1 2 3]\n",
            " [4 5 6]\n",
            " [7 8 9]]\n",
            "Matriz de ceros:\n",
            " [[0. 0. 0. 0.]\n",
            " [0. 0. 0. 0.]]\n",
            "Matriz de unos:\n",
            " [[1. 1.]\n",
            " [1. 1.]\n",
            " [1. 1.]]\n",
            "Matriz aleatoria:\n",
            " [[4 9 8 3]\n",
            " [4 9 4 1]\n",
            " [2 6 8 1]\n",
            " [2 3 6 4]]\n",
            "Tercer elemento del vector: 3\n",
            "Elemento en la segunda fila y segunda columna de la matriz: 5\n",
            "Dimensiones de la matriz: 2\n",
            "Forma de la matriz: (3, 3)\n",
            "Tamaño total de la matriz: 9\n",
            "Suma de matrices aleatorias: [[ 9 10]\n",
            " [ 3 15]]\n",
            "Multiplicación de matrices: [[ 9 69 68]\n",
            " [12 36 30]\n",
            " [ 4 36 36]]\n",
            "División de matrices: [[1. 1.]\n",
            " [1. 1.]]\n",
            "Multiplicación por la inversa: [[ 1.00000000e+00 -5.55111512e-17]\n",
            " [ 5.55111512e-17  1.00000000e+00]]\n",
            "Vector reshaped: [[1 2 3 4 5 6 7 8 9]]\n",
            "Matriz flattened: [1 2 3 4 5 6 7 8 9]\n",
            "Suma de elementos de la matriz: 45\n",
            "Media de cada fila de la matriz: [2. 5. 8.]\n",
            "Primera fila de la matriz: [1 2 3]\n",
            "Primeras dos columnas de la matriz:\n",
            " [[1 2]\n",
            " [4 5]\n",
            " [7 8]]\n",
            "Matriz adicional:\n",
            " [[90 93 53 96]\n",
            " [88 94 88  3]\n",
            " [32 90 69 22]\n",
            " [94 74  9 22]]\n",
            "Valor máximo: 96 en posición: (0, 3)\n",
            "Valor mínimo: 3 en posición: (1, 3)\n"
          ]
        }
      ]
    },
    {
      "cell_type": "code",
      "source": [
        "# Definimos los nombres de las variables que queremos imprimir\n",
        "variables_a_imprimir = [\n",
        "    \"vector\", \"matriz\", \"matriz_zeros\", \"matriz_unos\", \"matriz_random\",\n",
        "    \"tercer_elemento_vector\", \"elemento_2_2_matriz\", \"dimensiones_matriz\",\n",
        "    \"forma_matriz\", \"tamaño_matriz\", \"suma_matrices\", \"multiplicacion_matrices\",\n",
        "    \"resultado_division\", \"resultado_multiplicacion\", \"vector_reshaped\",\n",
        "    \"matriz_flattened\", \"suma_elementos_matriz\", \"media_filas_matriz\",\n",
        "    \"primera_fila\", \"primeras_dos_columnas\", \"matriz_adicional\",\n",
        "    \"valor_maximo\", \"posicion_maximo\", \"valor_minimo\", \"posicion_minimo\"\n",
        "]\n",
        "\n",
        "# Imprimimos los resultados de forma compacta\n",
        "for variable in variables_a_imprimir:\n",
        "    valor_variable = locals().get(variable)\n",
        "    if valor_variable is not None:\n",
        "        print(f\"{variable}: {valor_variable}\")\n"
      ],
      "metadata": {
        "colab": {
          "base_uri": "https://localhost:8080/"
        },
        "id": "xAJDfxqGcjTg",
        "outputId": "96d15e1b-253d-41cf-e486-8a5d8020d34b"
      },
      "execution_count": 41,
      "outputs": [
        {
          "output_type": "stream",
          "name": "stdout",
          "text": [
            "vector: [1 2 3 4 5 6 7 8 9]\n",
            "matriz: [[1 2 3]\n",
            " [4 5 6]\n",
            " [7 8 9]]\n",
            "matriz_zeros: [[0. 0. 0. 0.]\n",
            " [0. 0. 0. 0.]]\n",
            "matriz_unos: [[1. 1.]\n",
            " [1. 1.]\n",
            " [1. 1.]]\n",
            "matriz_random: [[4 9 8 3]\n",
            " [4 9 4 1]\n",
            " [2 6 8 1]\n",
            " [2 3 6 4]]\n",
            "tercer_elemento_vector: 3\n",
            "elemento_2_2_matriz: 5\n",
            "dimensiones_matriz: 2\n",
            "forma_matriz: (3, 3)\n",
            "tamaño_matriz: 9\n",
            "suma_matrices: [[ 9 10]\n",
            " [ 3 15]]\n",
            "multiplicacion_matrices: [[ 9 69 68]\n",
            " [12 36 30]\n",
            " [ 4 36 36]]\n",
            "resultado_division: [[1. 1.]\n",
            " [1. 1.]]\n",
            "resultado_multiplicacion: [[ 1.00000000e+00 -5.55111512e-17]\n",
            " [ 5.55111512e-17  1.00000000e+00]]\n",
            "vector_reshaped: [[1 2 3 4 5 6 7 8 9]]\n",
            "matriz_flattened: [1 2 3 4 5 6 7 8 9]\n",
            "suma_elementos_matriz: 45\n",
            "media_filas_matriz: [2. 5. 8.]\n",
            "primera_fila: [1 2 3]\n",
            "primeras_dos_columnas: [[1 2]\n",
            " [4 5]\n",
            " [7 8]]\n",
            "matriz_adicional: [[90 93 53 96]\n",
            " [88 94 88  3]\n",
            " [32 90 69 22]\n",
            " [94 74  9 22]]\n",
            "valor_maximo: 96\n",
            "posicion_maximo: (0, 3)\n",
            "valor_minimo: 3\n",
            "posicion_minimo: (1, 3)\n"
          ]
        }
      ]
    }
  ]
}